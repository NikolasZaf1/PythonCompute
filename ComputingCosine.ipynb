{
  "nbformat": 4,
  "nbformat_minor": 0,
  "metadata": {
    "colab": {
      "name": "ComputingCosine.ipynb",
      "provenance": []
    },
    "kernelspec": {
      "name": "python3",
      "display_name": "Python 3"
    }
  },
  "cells": [
    {
      "cell_type": "code",
      "metadata": {
        "id": "lcwxujJfTHJ5",
        "colab_type": "code",
        "outputId": "4913dd15-a05f-4163-96a7-01d256075bee",
        "colab": {
          "base_uri": "https://localhost:8080/",
          "height": 374
        }
      },
      "source": [
        "import math\n",
        "#code for enotita_1\n",
        "#input parameter a1\n",
        "print(\"Enter the a1 parameter:\")\n",
        "a1 = int(input())\n",
        "\n",
        "\n",
        "print()\n",
        "#input parameter a2\n",
        "print(\"Enter the a2 parameter:\")\n",
        "a2 = int(input())\n",
        "\n",
        "\n",
        "print()\n",
        "#input parameter b1\n",
        "print(\"Enter the b1 parameter:\")\n",
        "b1 = int(input())\n",
        "\n",
        "\n",
        "print()\n",
        "#input parameter b2\n",
        "print(\"Enter the b2 parameter:\")\n",
        "b2 = int(input())\n",
        "\n",
        "\n",
        "#compute a numerator\n",
        "a_b =(a1*b1)+(a2*b2)\n",
        "\n",
        "#compute denominator\n",
        "a = abs(math.sqrt(a1**2+a2**2))\n",
        "b = abs(math.sqrt(b1**2+b2**2))\n",
        "\n",
        "#computing cosine\n",
        "costh = a_b / (abs(a)*abs(b))\n",
        "print()\n",
        "\n",
        "#computing degree\n",
        "# Calculate theta with arccos in radians\n",
        "theta = math.acos(costh)\n",
        "print('Theta in radians: {}'.format(round(theta, 2)))\n",
        "print()\n",
        "# Convert to degrees\n",
        "goniath = math.degrees(theta)\n",
        "print('Theta in degrees: {}'.format(round(goniath, 2)))\n",
        "\n",
        "\n",
        "print()\n",
        "\n",
        "print(\"the cos is :\")\n",
        "print(costh)\n",
        "\n",
        "print()\n",
        "\n",
        "print(\"the angles in degrees of cos is :\")\n",
        "print(goniath)"
      ],
      "execution_count": 0,
      "outputs": [
        {
          "output_type": "stream",
          "text": [
            "Enter the a1 parameter:\n",
            "1\n",
            "\n",
            "Enter the a2 parameter:\n",
            "2\n",
            "\n",
            "Enter the b1 parameter:\n",
            "3\n",
            "\n",
            "Enter the b2 parameter:\n",
            "4\n",
            "\n",
            "Theta in radians: 0.18\n",
            "\n",
            "Theta in degrees: 10.3\n",
            "\n",
            "the cos is :\n",
            "0.9838699100999074\n",
            "\n",
            "the angles in degrees of cos is :\n",
            "10.304846468766044\n"
          ],
          "name": "stdout"
        }
      ]
    }
  ]
}